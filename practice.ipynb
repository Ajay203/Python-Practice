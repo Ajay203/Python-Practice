{
 "cells": [
  {
   "cell_type": "code",
   "execution_count": 2,
   "metadata": {},
   "outputs": [
    {
     "name": "stdout",
     "output_type": "stream",
     "text": [
      "name\n",
      "emial\n",
      "address\n",
      "sirname\n"
     ]
    }
   ],
   "source": [
    "l1 = [\"name\" ,\"emial\", \"address\" , \"sirname\"]\n",
    "\n",
    "for i in l1 : #for loop to print all the elements from the list.\n",
    "    print (i)"
   ]
  },
  {
   "cell_type": "code",
   "execution_count": 3,
   "metadata": {},
   "outputs": [
    {
     "name": "stdout",
     "output_type": "stream",
     "text": [
      "s\n",
      "t\n",
      "r\n",
      "i\n",
      "n\n",
      "g\n",
      "n\n",
      "a\n",
      "m\n",
      "e\n"
     ]
    }
   ],
   "source": [
    "s = \"stringname\"\n",
    "for i in s :\n",
    "    print (i)"
   ]
  },
  {
   "cell_type": "code",
   "execution_count": 4,
   "metadata": {},
   "outputs": [
    {
     "name": "stdout",
     "output_type": "stream",
     "text": [
      "name\n",
      "emial\n",
      "address\n",
      "sirname\n",
      "Else block will only execute only after the for loop is executed otherwise it will not execute itself.\n"
     ]
    }
   ],
   "source": [
    "#for - else loop !\n",
    "for i in l1 :\n",
    "    print (i)\n",
    "else :\n",
    "    print (\"Else block will only execute only after the for loop is executed otherwise it will not execute itself.\")"
   ]
  },
  {
   "cell_type": "code",
   "execution_count": 5,
   "metadata": {},
   "outputs": [
    {
     "name": "stdout",
     "output_type": "stream",
     "text": [
      "name\n",
      "emial\n",
      "address\n"
     ]
    }
   ],
   "source": [
    "#Else block will only execute only after the for loop is executed otherwise it will not execute itself.\n",
    "for i in l1 :\n",
    "    print (i)\n",
    "    if i == \"address\" :\n",
    "        break\n",
    "else :\n",
    "    print (\"this time else block will not be printed\")\n",
    "#here the else block is not printed because the for loop is been stoped in the middle of execution dut to the break statement."
   ]
  },
  {
   "cell_type": "code",
   "execution_count": null,
   "metadata": {},
   "outputs": [],
   "source": []
  }
 ],
 "metadata": {
  "kernelspec": {
   "display_name": "Python 3.8.10 64-bit",
   "language": "python",
   "name": "python3"
  },
  "language_info": {
   "codemirror_mode": {
    "name": "ipython",
    "version": 3
   },
   "file_extension": ".py",
   "mimetype": "text/x-python",
   "name": "python",
   "nbconvert_exporter": "python",
   "pygments_lexer": "ipython3",
   "version": "3.8.10"
  },
  "orig_nbformat": 4,
  "vscode": {
   "interpreter": {
    "hash": "e7370f93d1d0cde622a1f8e1c04877d8463912d04d973331ad4851f04de6915a"
   }
  }
 },
 "nbformat": 4,
 "nbformat_minor": 2
}
